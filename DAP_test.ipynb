{
 "cells": [
  {
   "cell_type": "markdown",
   "metadata": {},
   "source": [
    "# Самостоятельная работа 05.12.2020"
   ]
  },
  {
   "cell_type": "markdown",
   "metadata": {},
   "source": [
    "## numpy"
   ]
  },
  {
   "cell_type": "markdown",
   "metadata": {},
   "source": [
    "### Задача 0.1\n",
    "\n",
    "Напишите следующую функцию:\n",
    "\n",
    "На вход функции приходит матрица из булевых значения (`True` / `False`). Верните `True`, если в каждом столбце есть хотя бы одна `True`."
   ]
  },
  {
   "cell_type": "code",
   "execution_count": 36,
   "metadata": {},
   "outputs": [],
   "source": [
    "def columnwise_any_then_all(matrix):\n",
    "    return True"
   ]
  },
  {
   "cell_type": "markdown",
   "metadata": {},
   "source": [
    "### Задача 0.2\n",
    "\n",
    "Напишите функцию, которая вернет индекс первого элемента, который больше нуля. Предполагайте, что положительный элемент всегда существует."
   ]
  },
  {
   "cell_type": "code",
   "execution_count": 37,
   "metadata": {},
   "outputs": [],
   "source": [
    "def where_the_first_positive(array):\n",
    "    return 0"
   ]
  },
  {
   "cell_type": "markdown",
   "metadata": {},
   "source": [
    "### Задача 0.3\n",
    "На вход функции приходит np.array в котором лежат целые числа. Число означает изменение температуры в этот день по сравнению со вчерашним днем. Верните количество дней, когда температура была больше `target`.\n",
    "Стартовая температура равна 10 градусам."
   ]
  },
  {
   "cell_type": "code",
   "execution_count": 38,
   "metadata": {},
   "outputs": [],
   "source": [
    "def warming(temperature_deltas, target):\n",
    "    return 0"
   ]
  },
  {
   "cell_type": "markdown",
   "metadata": {},
   "source": [
    "## pandas\n",
    "\n",
    "В этой секции будем работать с датасетом, где представлена информация о держателях банковских карт. \n",
    "\n",
    "В данной секции нельзя глазами отсмотреть весь датасет и напечатать ответ на вопрос. Решения задач должны работать с любой подвыборкой и оставаться корректными."
   ]
  },
  {
   "cell_type": "code",
   "execution_count": null,
   "metadata": {},
   "outputs": [],
   "source": [
    "import pandas as pd\n",
    "from matplotlib import pyplot as plt"
   ]
  },
  {
   "cell_type": "code",
   "execution_count": 35,
   "metadata": {},
   "outputs": [],
   "source": [
    "df = pd.read_csv('credit_card_users.csv')"
   ]
  },
  {
   "cell_type": "markdown",
   "metadata": {},
   "source": [
    "### Задача 1.0\n",
    "Выведете первые 10 строчек в датасете."
   ]
  },
  {
   "cell_type": "code",
   "execution_count": null,
   "metadata": {},
   "outputs": [],
   "source": []
  },
  {
   "cell_type": "markdown",
   "metadata": {},
   "source": [
    "### Задача 1.1\n",
    "\n",
    "Напиишите код, который поместит в переменную `ans` список из уникальных типов карт, которые представлены в датасете? Колонка: `Card_Category`\n"
   ]
  },
  {
   "cell_type": "code",
   "execution_count": null,
   "metadata": {},
   "outputs": [],
   "source": []
  },
  {
   "cell_type": "markdown",
   "metadata": {},
   "source": [
    "### Задача 1.2\n",
    "\n",
    "Какие максимальные и минимальные лимитные кредиты имеют держатели?\n",
    "В переменную `max_lim` поместите максимальный лимит, в переменную `min_lim` - минимальный."
   ]
  },
  {
   "cell_type": "code",
   "execution_count": null,
   "metadata": {},
   "outputs": [],
   "source": []
  },
  {
   "cell_type": "markdown",
   "metadata": {},
   "source": [
    "### Задача 1.3\n",
    "\n",
    "Какие максимальные и минимальные лимитные кредиты (`Credit_Limit`) имеют держатели с разными премиальных категориях (`Card_Category`)?\n",
    "\n",
    "Поместите pd.Series с минимальными лимитами в переменную `min_lim`, а максимальные в переменную `max_lim`."
   ]
  },
  {
   "cell_type": "code",
   "execution_count": null,
   "metadata": {},
   "outputs": [],
   "source": []
  },
  {
   "cell_type": "markdown",
   "metadata": {},
   "source": [
    "### Задача 1.4\n",
    "Постройте диаграмму рассеяния, где по оси `x` будет возраст человека, а по `y` его кредитный лимит.\n",
    "\n",
    "Одной-двумя фразами опишите, как будет изменяться кредитный лимит при изменении возраста."
   ]
  },
  {
   "cell_type": "code",
   "execution_count": null,
   "metadata": {},
   "outputs": [],
   "source": []
  },
  {
   "cell_type": "markdown",
   "metadata": {},
   "source": [
    "### Задача 1.5\n",
    "\n",
    "Интересно узнать, как связаны уровни образования и кредитный лимит. Нарисуйте график, где по оси `x` уровни образования, а по `y` средний кредитный лимит в группе.\n",
    "\n",
    "Какой вывод можно сделать? Как связаны уровень образования и лимит?"
   ]
  },
  {
   "cell_type": "code",
   "execution_count": null,
   "metadata": {},
   "outputs": [],
   "source": []
  },
  {
   "cell_type": "markdown",
   "metadata": {},
   "source": [
    "### Задача 1.6\n",
    "\n",
    "\n",
    "Отношение к кредитам может сильно различаться в зависимости от доходов.\n",
    "\n",
    "Предварительно почистите выборку от тех, кто вообще не пользуется кредитной картой.\n",
    "Далее постройте такую величину: среднее использование кредитной карты (`Avg_Utilization_Ratio`) в зависимости от `Income_Category`. Внутри каждой категории доходов необходимо усреднить `Avg_Utilization_Ratio`.\n"
   ]
  },
  {
   "cell_type": "code",
   "execution_count": null,
   "metadata": {},
   "outputs": [],
   "source": []
  }
 ],
 "metadata": {
  "kernelspec": {
   "display_name": "Python 3",
   "language": "python",
   "name": "python3"
  },
  "language_info": {
   "codemirror_mode": {
    "name": "ipython",
    "version": 3
   },
   "file_extension": ".py",
   "mimetype": "text/x-python",
   "name": "python",
   "nbconvert_exporter": "python",
   "pygments_lexer": "ipython3",
   "version": "3.7.9"
  }
 },
 "nbformat": 4,
 "nbformat_minor": 2
}
